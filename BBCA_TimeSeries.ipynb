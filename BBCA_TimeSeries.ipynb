{
  "nbformat": 4,
  "nbformat_minor": 0,
  "metadata": {
    "colab": {
      "provenance": [],
      "collapsed_sections": [],
      "include_colab_link": true
    },
    "kernelspec": {
      "name": "python3",
      "display_name": "Python 3"
    }
  },
  "cells": [
    {
      "cell_type": "markdown",
      "metadata": {
        "id": "view-in-github",
        "colab_type": "text"
      },
      "source": [
        "<a href=\"https://colab.research.google.com/github/AdriansaWP/Belajar-Machine-Learning/blob/main/BBCA_TimeSeries.ipynb\" target=\"_parent\"><img src=\"https://colab.research.google.com/assets/colab-badge.svg\" alt=\"Open In Colab\"/></a>"
      ]
    },
    {
      "cell_type": "code",
      "metadata": {
        "id": "5v9TOjF15ZBK",
        "outputId": "3b75b4fa-c4c3-4ffa-fe79-7b6a14b734e2",
        "colab": {
          "resources": {
            "http://localhost:8080/nbextensions/google.colab/files.js": {
              "data": "Ly8gQ29weXJpZ2h0IDIwMTcgR29vZ2xlIExMQwovLwovLyBMaWNlbnNlZCB1bmRlciB0aGUgQXBhY2hlIExpY2Vuc2UsIFZlcnNpb24gMi4wICh0aGUgIkxpY2Vuc2UiKTsKLy8geW91IG1heSBub3QgdXNlIHRoaXMgZmlsZSBleGNlcHQgaW4gY29tcGxpYW5jZSB3aXRoIHRoZSBMaWNlbnNlLgovLyBZb3UgbWF5IG9idGFpbiBhIGNvcHkgb2YgdGhlIExpY2Vuc2UgYXQKLy8KLy8gICAgICBodHRwOi8vd3d3LmFwYWNoZS5vcmcvbGljZW5zZXMvTElDRU5TRS0yLjAKLy8KLy8gVW5sZXNzIHJlcXVpcmVkIGJ5IGFwcGxpY2FibGUgbGF3IG9yIGFncmVlZCB0byBpbiB3cml0aW5nLCBzb2Z0d2FyZQovLyBkaXN0cmlidXRlZCB1bmRlciB0aGUgTGljZW5zZSBpcyBkaXN0cmlidXRlZCBvbiBhbiAiQVMgSVMiIEJBU0lTLAovLyBXSVRIT1VUIFdBUlJBTlRJRVMgT1IgQ09ORElUSU9OUyBPRiBBTlkgS0lORCwgZWl0aGVyIGV4cHJlc3Mgb3IgaW1wbGllZC4KLy8gU2VlIHRoZSBMaWNlbnNlIGZvciB0aGUgc3BlY2lmaWMgbGFuZ3VhZ2UgZ292ZXJuaW5nIHBlcm1pc3Npb25zIGFuZAovLyBsaW1pdGF0aW9ucyB1bmRlciB0aGUgTGljZW5zZS4KCi8qKgogKiBAZmlsZW92ZXJ2aWV3IEhlbHBlcnMgZm9yIGdvb2dsZS5jb2xhYiBQeXRob24gbW9kdWxlLgogKi8KKGZ1bmN0aW9uKHNjb3BlKSB7CmZ1bmN0aW9uIHNwYW4odGV4dCwgc3R5bGVBdHRyaWJ1dGVzID0ge30pIHsKICBjb25zdCBlbGVtZW50ID0gZG9jdW1lbnQuY3JlYXRlRWxlbWVudCgnc3BhbicpOwogIGVsZW1lbnQudGV4dENvbnRlbnQgPSB0ZXh0OwogIGZvciAoY29uc3Qga2V5IG9mIE9iamVjdC5rZXlzKHN0eWxlQXR0cmlidXRlcykpIHsKICAgIGVsZW1lbnQuc3R5bGVba2V5XSA9IHN0eWxlQXR0cmlidXRlc1trZXldOwogIH0KICByZXR1cm4gZWxlbWVudDsKfQoKLy8gTWF4IG51bWJlciBvZiBieXRlcyB3aGljaCB3aWxsIGJlIHVwbG9hZGVkIGF0IGEgdGltZS4KY29uc3QgTUFYX1BBWUxPQURfU0laRSA9IDEwMCAqIDEwMjQ7Ci8vIE1heCBhbW91bnQgb2YgdGltZSB0byBibG9jayB3YWl0aW5nIGZvciB0aGUgdXNlci4KY29uc3QgRklMRV9DSEFOR0VfVElNRU9VVF9NUyA9IDMwICogMTAwMDsKCmZ1bmN0aW9uIF91cGxvYWRGaWxlcyhpbnB1dElkLCBvdXRwdXRJZCkgewogIGNvbnN0IHN0ZXBzID0gdXBsb2FkRmlsZXNTdGVwKGlucHV0SWQsIG91dHB1dElkKTsKICBjb25zdCBvdXRwdXRFbGVtZW50ID0gZG9jdW1lbnQuZ2V0RWxlbWVudEJ5SWQob3V0cHV0SWQpOwogIC8vIENhY2hlIHN0ZXBzIG9uIHRoZSBvdXRwdXRFbGVtZW50IHRvIG1ha2UgaXQgYXZhaWxhYmxlIGZvciB0aGUgbmV4dCBjYWxsCiAgLy8gdG8gdXBsb2FkRmlsZXNDb250aW51ZSBmcm9tIFB5dGhvbi4KICBvdXRwdXRFbGVtZW50LnN0ZXBzID0gc3RlcHM7CgogIHJldHVybiBfdXBsb2FkRmlsZXNDb250aW51ZShvdXRwdXRJZCk7Cn0KCi8vIFRoaXMgaXMgcm91Z2hseSBhbiBhc3luYyBnZW5lcmF0b3IgKG5vdCBzdXBwb3J0ZWQgaW4gdGhlIGJyb3dzZXIgeWV0KSwKLy8gd2hlcmUgdGhlcmUgYXJlIG11bHRpcGxlIGFzeW5jaHJvbm91cyBzdGVwcyBhbmQgdGhlIFB5dGhvbiBzaWRlIGlzIGdvaW5nCi8vIHRvIHBvbGwgZm9yIGNvbXBsZXRpb24gb2YgZWFjaCBzdGVwLgovLyBUaGlzIHVzZXMgYSBQcm9taXNlIHRvIGJsb2NrIHRoZSBweXRob24gc2lkZSBvbiBjb21wbGV0aW9uIG9mIGVhY2ggc3RlcCwKLy8gdGhlbiBwYXNzZXMgdGhlIHJlc3VsdCBvZiB0aGUgcHJldmlvdXMgc3RlcCBhcyB0aGUgaW5wdXQgdG8gdGhlIG5leHQgc3RlcC4KZnVuY3Rpb24gX3VwbG9hZEZpbGVzQ29udGludWUob3V0cHV0SWQpIHsKICBjb25zdCBvdXRwdXRFbGVtZW50ID0gZG9jdW1lbnQuZ2V0RWxlbWVudEJ5SWQob3V0cHV0SWQpOwogIGNvbnN0IHN0ZXBzID0gb3V0cHV0RWxlbWVudC5zdGVwczsKCiAgY29uc3QgbmV4dCA9IHN0ZXBzLm5leHQob3V0cHV0RWxlbWVudC5sYXN0UHJvbWlzZVZhbHVlKTsKICByZXR1cm4gUHJvbWlzZS5yZXNvbHZlKG5leHQudmFsdWUucHJvbWlzZSkudGhlbigodmFsdWUpID0+IHsKICAgIC8vIENhY2hlIHRoZSBsYXN0IHByb21pc2UgdmFsdWUgdG8gbWFrZSBpdCBhdmFpbGFibGUgdG8gdGhlIG5leHQKICAgIC8vIHN0ZXAgb2YgdGhlIGdlbmVyYXRvci4KICAgIG91dHB1dEVsZW1lbnQubGFzdFByb21pc2VWYWx1ZSA9IHZhbHVlOwogICAgcmV0dXJuIG5leHQudmFsdWUucmVzcG9uc2U7CiAgfSk7Cn0KCi8qKgogKiBHZW5lcmF0b3IgZnVuY3Rpb24gd2hpY2ggaXMgY2FsbGVkIGJldHdlZW4gZWFjaCBhc3luYyBzdGVwIG9mIHRoZSB1cGxvYWQKICogcHJvY2Vzcy4KICogQHBhcmFtIHtzdHJpbmd9IGlucHV0SWQgRWxlbWVudCBJRCBvZiB0aGUgaW5wdXQgZmlsZSBwaWNrZXIgZWxlbWVudC4KICogQHBhcmFtIHtzdHJpbmd9IG91dHB1dElkIEVsZW1lbnQgSUQgb2YgdGhlIG91dHB1dCBkaXNwbGF5LgogKiBAcmV0dXJuIHshSXRlcmFibGU8IU9iamVjdD59IEl0ZXJhYmxlIG9mIG5leHQgc3RlcHMuCiAqLwpmdW5jdGlvbiogdXBsb2FkRmlsZXNTdGVwKGlucHV0SWQsIG91dHB1dElkKSB7CiAgY29uc3QgaW5wdXRFbGVtZW50ID0gZG9jdW1lbnQuZ2V0RWxlbWVudEJ5SWQoaW5wdXRJZCk7CiAgaW5wdXRFbGVtZW50LmRpc2FibGVkID0gZmFsc2U7CgogIGNvbnN0IG91dHB1dEVsZW1lbnQgPSBkb2N1bWVudC5nZXRFbGVtZW50QnlJZChvdXRwdXRJZCk7CiAgb3V0cHV0RWxlbWVudC5pbm5lckhUTUwgPSAnJzsKCiAgY29uc3QgcGlja2VkUHJvbWlzZSA9IG5ldyBQcm9taXNlKChyZXNvbHZlKSA9PiB7CiAgICBpbnB1dEVsZW1lbnQuYWRkRXZlbnRMaXN0ZW5lcignY2hhbmdlJywgKGUpID0+IHsKICAgICAgcmVzb2x2ZShlLnRhcmdldC5maWxlcyk7CiAgICB9KTsKICB9KTsKCiAgY29uc3QgY2FuY2VsID0gZG9jdW1lbnQuY3JlYXRlRWxlbWVudCgnYnV0dG9uJyk7CiAgaW5wdXRFbGVtZW50LnBhcmVudEVsZW1lbnQuYXBwZW5kQ2hpbGQoY2FuY2VsKTsKICBjYW5jZWwudGV4dENvbnRlbnQgPSAnQ2FuY2VsIHVwbG9hZCc7CiAgY29uc3QgY2FuY2VsUHJvbWlzZSA9IG5ldyBQcm9taXNlKChyZXNvbHZlKSA9PiB7CiAgICBjYW5jZWwub25jbGljayA9ICgpID0+IHsKICAgICAgcmVzb2x2ZShudWxsKTsKICAgIH07CiAgfSk7CgogIC8vIENhbmNlbCB1cGxvYWQgaWYgdXNlciBoYXNuJ3QgcGlja2VkIGFueXRoaW5nIGluIHRpbWVvdXQuCiAgY29uc3QgdGltZW91dFByb21pc2UgPSBuZXcgUHJvbWlzZSgocmVzb2x2ZSkgPT4gewogICAgc2V0VGltZW91dCgoKSA9PiB7CiAgICAgIHJlc29sdmUobnVsbCk7CiAgICB9LCBGSUxFX0NIQU5HRV9USU1FT1VUX01TKTsKICB9KTsKCiAgLy8gV2FpdCBmb3IgdGhlIHVzZXIgdG8gcGljayB0aGUgZmlsZXMuCiAgY29uc3QgZmlsZXMgPSB5aWVsZCB7CiAgICBwcm9taXNlOiBQcm9taXNlLnJhY2UoW3BpY2tlZFByb21pc2UsIHRpbWVvdXRQcm9taXNlLCBjYW5jZWxQcm9taXNlXSksCiAgICByZXNwb25zZTogewogICAgICBhY3Rpb246ICdzdGFydGluZycsCiAgICB9CiAgfTsKCiAgaWYgKCFmaWxlcykgewogICAgcmV0dXJuIHsKICAgICAgcmVzcG9uc2U6IHsKICAgICAgICBhY3Rpb246ICdjb21wbGV0ZScsCiAgICAgIH0KICAgIH07CiAgfQoKICBjYW5jZWwucmVtb3ZlKCk7CgogIC8vIERpc2FibGUgdGhlIGlucHV0IGVsZW1lbnQgc2luY2UgZnVydGhlciBwaWNrcyBhcmUgbm90IGFsbG93ZWQuCiAgaW5wdXRFbGVtZW50LmRpc2FibGVkID0gdHJ1ZTsKCiAgZm9yIChjb25zdCBmaWxlIG9mIGZpbGVzKSB7CiAgICBjb25zdCBsaSA9IGRvY3VtZW50LmNyZWF0ZUVsZW1lbnQoJ2xpJyk7CiAgICBsaS5hcHBlbmQoc3BhbihmaWxlLm5hbWUsIHtmb250V2VpZ2h0OiAnYm9sZCd9KSk7CiAgICBsaS5hcHBlbmQoc3BhbigKICAgICAgICBgKCR7ZmlsZS50eXBlIHx8ICduL2EnfSkgLSAke2ZpbGUuc2l6ZX0gYnl0ZXMsIGAgKwogICAgICAgIGBsYXN0IG1vZGlmaWVkOiAkewogICAgICAgICAgICBmaWxlLmxhc3RNb2RpZmllZERhdGUgPyBmaWxlLmxhc3RNb2RpZmllZERhdGUudG9Mb2NhbGVEYXRlU3RyaW5nKCkgOgogICAgICAgICAgICAgICAgICAgICAgICAgICAgICAgICAgICAnbi9hJ30gLSBgKSk7CiAgICBjb25zdCBwZXJjZW50ID0gc3BhbignMCUgZG9uZScpOwogICAgbGkuYXBwZW5kQ2hpbGQocGVyY2VudCk7CgogICAgb3V0cHV0RWxlbWVudC5hcHBlbmRDaGlsZChsaSk7CgogICAgY29uc3QgZmlsZURhdGFQcm9taXNlID0gbmV3IFByb21pc2UoKHJlc29sdmUpID0+IHsKICAgICAgY29uc3QgcmVhZGVyID0gbmV3IEZpbGVSZWFkZXIoKTsKICAgICAgcmVhZGVyLm9ubG9hZCA9IChlKSA9PiB7CiAgICAgICAgcmVzb2x2ZShlLnRhcmdldC5yZXN1bHQpOwogICAgICB9OwogICAgICByZWFkZXIucmVhZEFzQXJyYXlCdWZmZXIoZmlsZSk7CiAgICB9KTsKICAgIC8vIFdhaXQgZm9yIHRoZSBkYXRhIHRvIGJlIHJlYWR5LgogICAgbGV0IGZpbGVEYXRhID0geWllbGQgewogICAgICBwcm9taXNlOiBmaWxlRGF0YVByb21pc2UsCiAgICAgIHJlc3BvbnNlOiB7CiAgICAgICAgYWN0aW9uOiAnY29udGludWUnLAogICAgICB9CiAgICB9OwoKICAgIC8vIFVzZSBhIGNodW5rZWQgc2VuZGluZyB0byBhdm9pZCBtZXNzYWdlIHNpemUgbGltaXRzLiBTZWUgYi82MjExNTY2MC4KICAgIGxldCBwb3NpdGlvbiA9IDA7CiAgICB3aGlsZSAocG9zaXRpb24gPCBmaWxlRGF0YS5ieXRlTGVuZ3RoKSB7CiAgICAgIGNvbnN0IGxlbmd0aCA9IE1hdGgubWluKGZpbGVEYXRhLmJ5dGVMZW5ndGggLSBwb3NpdGlvbiwgTUFYX1BBWUxPQURfU0laRSk7CiAgICAgIGNvbnN0IGNodW5rID0gbmV3IFVpbnQ4QXJyYXkoZmlsZURhdGEsIHBvc2l0aW9uLCBsZW5ndGgpOwogICAgICBwb3NpdGlvbiArPSBsZW5ndGg7CgogICAgICBjb25zdCBiYXNlNjQgPSBidG9hKFN0cmluZy5mcm9tQ2hhckNvZGUuYXBwbHkobnVsbCwgY2h1bmspKTsKICAgICAgeWllbGQgewogICAgICAgIHJlc3BvbnNlOiB7CiAgICAgICAgICBhY3Rpb246ICdhcHBlbmQnLAogICAgICAgICAgZmlsZTogZmlsZS5uYW1lLAogICAgICAgICAgZGF0YTogYmFzZTY0LAogICAgICAgIH0sCiAgICAgIH07CiAgICAgIHBlcmNlbnQudGV4dENvbnRlbnQgPQogICAgICAgICAgYCR7TWF0aC5yb3VuZCgocG9zaXRpb24gLyBmaWxlRGF0YS5ieXRlTGVuZ3RoKSAqIDEwMCl9JSBkb25lYDsKICAgIH0KICB9CgogIC8vIEFsbCBkb25lLgogIHlpZWxkIHsKICAgIHJlc3BvbnNlOiB7CiAgICAgIGFjdGlvbjogJ2NvbXBsZXRlJywKICAgIH0KICB9Owp9CgpzY29wZS5nb29nbGUgPSBzY29wZS5nb29nbGUgfHwge307CnNjb3BlLmdvb2dsZS5jb2xhYiA9IHNjb3BlLmdvb2dsZS5jb2xhYiB8fCB7fTsKc2NvcGUuZ29vZ2xlLmNvbGFiLl9maWxlcyA9IHsKICBfdXBsb2FkRmlsZXMsCiAgX3VwbG9hZEZpbGVzQ29udGludWUsCn07Cn0pKHNlbGYpOwo=",
              "ok": true,
              "headers": [
                [
                  "content-type",
                  "application/javascript"
                ]
              ],
              "status": 200,
              "status_text": ""
            }
          },
          "base_uri": "https://localhost:8080/",
          "height": 74
        }
      },
      "source": [
        "from google.colab import files\n",
        "uploaded = files.upload()"
      ],
      "execution_count": null,
      "outputs": [
        {
          "output_type": "display_data",
          "data": {
            "text/html": [
              "\n",
              "     <input type=\"file\" id=\"files-de758c4a-1173-43e2-98ba-bfc97c8daebc\" name=\"files[]\" multiple disabled />\n",
              "     <output id=\"result-de758c4a-1173-43e2-98ba-bfc97c8daebc\">\n",
              "      Upload widget is only available when the cell has been executed in the\n",
              "      current browser session. Please rerun this cell to enable.\n",
              "      </output>\n",
              "      <script src=\"/nbextensions/google.colab/files.js\"></script> "
            ],
            "text/plain": [
              "<IPython.core.display.HTML object>"
            ]
          },
          "metadata": {
            "tags": []
          }
        },
        {
          "output_type": "stream",
          "text": [
            "Saving BBCA.JK.csv to BBCA.JK.csv\n"
          ],
          "name": "stdout"
        }
      ]
    },
    {
      "cell_type": "code",
      "metadata": {
        "id": "ypSY0roQ5lAk",
        "outputId": "d1d2425e-06aa-47ba-dbf7-a2a3a4aa3bd8",
        "colab": {
          "base_uri": "https://localhost:8080/",
          "height": 221
        }
      },
      "source": [],
      "execution_count": null,
      "outputs": [
        {
          "output_type": "stream",
          "text": [
            "<class 'pandas.core.frame.DataFrame'>\n",
            "RangeIndex: 3916 entries, 0 to 3915\n",
            "Data columns (total 7 columns):\n",
            "Date         3916 non-null object\n",
            "Open         3908 non-null float64\n",
            "High         3908 non-null float64\n",
            "Low          3908 non-null float64\n",
            "Close        3908 non-null float64\n",
            "Adj Close    3908 non-null float64\n",
            "Volume       3908 non-null float64\n",
            "dtypes: float64(6), object(1)\n",
            "memory usage: 214.3+ KB\n"
          ],
          "name": "stdout"
        }
      ]
    },
    {
      "cell_type": "code",
      "metadata": {
        "id": "yms7LRM86Vd3",
        "outputId": "e5906027-cd5e-49bd-b695-ca182d6f0a30",
        "colab": {
          "base_uri": "https://localhost:8080/",
          "height": 312
        }
      },
      "source": [
        "import matplotlib.pyplot as plt\n",
        "\n",
        "plt.figure()\n",
        "plt.plot(data['Open'])\n",
        "plt.plot(data['High'])\n",
        "plt.plot(data['Low'])\n",
        "plt.plot(data['Close'])\n",
        "plt.title(\"BBCA STOCK PRICE HISTORY\")\n",
        "plt.ylabel(\"Price (IDR)\")\n",
        "plt.xlabel(\"Day\")\n",
        "plt.legend(['Open','High', 'Low', 'Close'], loc=\"upper left\")\n",
        "plt.show"
      ],
      "execution_count": null,
      "outputs": [
        {
          "output_type": "execute_result",
          "data": {
            "text/plain": [
              "<function matplotlib.pyplot.show>"
            ]
          },
          "metadata": {
            "tags": []
          },
          "execution_count": 161
        },
        {
          "output_type": "display_data",
          "data": {
            "image/png": "[encoded data removed]",
            "text/plain": [
              "<Figure size 432x288 with 1 Axes>"
            ]
          },
          "metadata": {
            "tags": []
          }
        }
      ]
    },
    {
      "cell_type": "code",
      "metadata": {
        "id": "N1ZQwxJr7sx9",
        "outputId": "9ec2b087-4aac-4eaa-cb93-46da237ba8f2",
        "colab": {
          "base_uri": "https://localhost:8080/",
          "height": 312
        }
      },
      "source": [
        "plt.figure()\n",
        "plt.plot(data['Volume'])\n",
        "plt.title(\"JKSE Stock Volume History\")\n",
        "plt.ylabel(\"Price (IDR)\")\n",
        "plt.xlabel(\"Day\")\n",
        "plt.show"
      ],
      "execution_count": null,
      "outputs": [
        {
          "output_type": "execute_result",
          "data": {
            "text/plain": [
              "<function matplotlib.pyplot.show>"
            ]
          },
          "metadata": {
            "tags": []
          },
          "execution_count": 121
        },
        {
          "output_type": "display_data",
          "data": {
            "image/png": "[encoded data removed]",
            "text/plain": [
              "<Figure size 432x288 with 1 Axes>"
            ]
          },
          "metadata": {
            "tags": []
          }
        }
      ]
    },
    {
      "cell_type": "code",
      "metadata": {
        "id": "WqiZmd5c8pxc",
        "outputId": "cb07fd54-c931-4b53-dc87-ce60e589cb4e",
        "colab": {
          "base_uri": "https://localhost:8080/",
          "height": 170
        }
      },
      "source": [
        "print(\"check null value (hari yg tidak ada datanya) \\n\", data.isna().sum())"
      ],
      "execution_count": null,
      "outputs": [
        {
          "output_type": "stream",
          "text": [
            "check null value (hari yg tidak ada datanya) \n",
            " Date         0\n",
            "Open         0\n",
            "High         0\n",
            "Low          0\n",
            "Close        0\n",
            "Adj Close    0\n",
            "Volume       0\n",
            "dtype: int64\n"
          ],
          "name": "stdout"
        }
      ]
    },
    {
      "cell_type": "code",
      "metadata": {
        "id": "XCQstmXc8-eS"
      },
      "source": [
        "#tidak ada data null\n",
        "data = data.dropna()"
      ],
      "execution_count": null,
      "outputs": []
    },
    {
      "cell_type": "code",
      "metadata": {
        "id": "_atPi0jb9Xtn",
        "outputId": "f716f107-983e-4c1b-9759-b38c4e4ded99",
        "colab": {
          "base_uri": "https://localhost:8080/",
          "height": 34
        }
      },
      "source": [
        "#normalisasi\n",
        "from sklearn.preprocessing import MinMaxScaler\n",
        "from sklearn.model_selection import train_test_split\n",
        "\n",
        "#train_cols = [\"Open\", \"High\", \"Low\", \"Close\", \"Volume\"]\n",
        "train_cols = [\"Close\"]\n",
        "data_train, data_test = train_test_split(data, train_size=0.8, test_size=0.2, shuffle=False )\n",
        "print(\"data_train and data_test size: \", len(data_train), len(data_test))"
      ],
      "execution_count": null,
      "outputs": [
        {
          "output_type": "stream",
          "text": [
            "data_train and data_test size:  3126 782\n"
          ],
          "name": "stdout"
        }
      ]
    },
    {
      "cell_type": "code",
      "metadata": {
        "id": "K2DqttrD-dzJ",
        "outputId": "50d0bc07-8991-4ea2-d061-1b4a306d0a43",
        "colab": {
          "base_uri": "https://localhost:8080/",
          "height": 136
        }
      },
      "source": [
        "#scale data min max\n",
        "x = data_train.loc[:, train_cols].values  #mengambil semua atribut dalam train_cols\n",
        "min_max_scaler = MinMaxScaler()\n",
        "x_train = min_max_scaler.fit_transform(x)\n",
        "x_test = min_max_scaler.transform(data_test.loc[:, train_cols])\n",
        "\n",
        "x_train"
      ],
      "execution_count": null,
      "outputs": [
        {
          "output_type": "execute_result",
          "data": {
            "text/plain": [
              "array([[0.00000000e+00],\n",
              "       [8.24402308e-04],\n",
              "       [8.24402308e-04],\n",
              "       ...,\n",
              "       [9.30750206e-01],\n",
              "       [9.65375103e-01],\n",
              "       [9.63726298e-01]])"
            ]
          },
          "metadata": {
            "tags": []
          },
          "execution_count": 177
        }
      ]
    },
    {
      "cell_type": "code",
      "metadata": {
        "id": "OMxRLmCnAXCD"
      },
      "source": [
        "import numpy as np\n",
        "\n",
        "def build_timeseries(mat, y_col_index):\n",
        "  dim_0 = mat.shape[0] - TIME_STEPS\n",
        "  dim_1 = mat.shape[1]\n",
        "  x = np.zeros((dim_0, TIME_STEPS, dim_1))\n",
        "  y = np.zeros((dim_0,))\n",
        "\n",
        "  for i in range(dim_0):\n",
        "    x[i] = mat[i:TIME_STEPS+i]\n",
        "    y[i] = mat[TIME_STEPS+i, y_col_index]\n",
        "  \n",
        "  print(\"Panjang data time series i/o\", x.shape, y.shape)\n",
        "  return x,y"
      ],
      "execution_count": null,
      "outputs": []
    },
    {
      "cell_type": "code",
      "metadata": {
        "id": "lss4kD6ECApE"
      },
      "source": [
        "def trim_dataset(mat, batch_size):\n",
        "  no_of_rows_drop = mat.shape[0]%batch_size\n",
        "  if(no_of_rows_drop > 0):\n",
        "    return mat[:-no_of_rows_drop]\n",
        "  else:\n",
        "    return mat"
      ],
      "execution_count": null,
      "outputs": []
    },
    {
      "cell_type": "code",
      "metadata": {
        "id": "vRbnFbKyDcdX",
        "outputId": "462bfe96-4445-4909-a2b6-c0dc3e264b90",
        "colab": {
          "base_uri": "https://localhost:8080/",
          "height": 51
        }
      },
      "source": [
        "TIME_STEPS = 30\n",
        "BATCH_SIZE = 100\n",
        "x_t, y_t = build_timeseries(x_train, 0)\n",
        "x_t = trim_dataset(x_t, BATCH_SIZE)\n",
        "y_t = trim_dataset(y_t, BATCH_SIZE)\n",
        "x_temp, y_temp = build_timeseries(x_test,0)\n",
        "x_val = trim_dataset(x_temp, BATCH_SIZE)\n",
        "y_val = trim_dataset(y_temp, BATCH_SIZE)"
      ],
      "execution_count": null,
      "outputs": [
        {
          "output_type": "stream",
          "text": [
            "Panjang data time series i/o (3096, 30, 1) (3096,)\n",
            "Panjang data time series i/o (752, 30, 1) (752,)\n"
          ],
          "name": "stdout"
        }
      ]
    },
    {
      "cell_type": "code",
      "metadata": {
        "id": "j0KHMg1aEyZU",
        "outputId": "d51635a5-9673-481c-ee75-6dcca49b1ca0",
        "colab": {
          "base_uri": "https://localhost:8080/",
          "height": 289
        }
      },
      "source": [
        "import tensorflow as tf\n",
        "from keras.models import Sequential, Input, Model\n",
        "from keras.layers import Dense, Dropout, Flatten\n",
        "from keras.layers.recurrent import LSTM #long short term memory\n",
        "lstm_model = Sequential()\n",
        "lstm_model.add(LSTM(100, batch_input_shape=(BATCH_SIZE, TIME_STEPS, x_t.shape[2]), stateful=True, kernel_initializer='random_uniform'))\n",
        "\n",
        "lstm_model.add(Dropout(0.5))\n",
        "lstm_model.add(Dense(20, activation='relu'))\n",
        "lstm_model.add(Dense(1, activation='sigmoid'))\n",
        "\n",
        "\n",
        "\n",
        "#compile model\n",
        "lstm_model.compile(loss='mean_squared_error', optimizer='RMSprop')\n",
        "lstm_model.summary()"
      ],
      "execution_count": null,
      "outputs": [
        {
          "output_type": "stream",
          "text": [
            "Model: \"sequential_28\"\n",
            "_________________________________________________________________\n",
            "Layer (type)                 Output Shape              Param #   \n",
            "=================================================================\n",
            "lstm_28 (LSTM)               (100, 100)                40800     \n",
            "_________________________________________________________________\n",
            "dropout_28 (Dropout)         (100, 100)                0         \n",
            "_________________________________________________________________\n",
            "dense_83 (Dense)             (100, 20)                 2020      \n",
            "_________________________________________________________________\n",
            "dense_84 (Dense)             (100, 1)                  21        \n",
            "=================================================================\n",
            "Total params: 42,841\n",
            "Trainable params: 42,841\n",
            "Non-trainable params: 0\n",
            "_________________________________________________________________\n"
          ],
          "name": "stdout"
        }
      ]
    },
    {
      "cell_type": "code",
      "metadata": {
        "id": "8yyrBziKIQCJ",
        "outputId": "e738bf94-9005-40ff-cffb-881e64de4ece",
        "colab": {
          "base_uri": "https://localhost:8080/",
          "height": 1000
        }
      },
      "source": [
        "#train model\n",
        "nn_train = lstm_model.fit(x_t, y_t, epochs= 100, verbose= 1, batch_size=BATCH_SIZE, shuffle=False, validation_data=(trim_dataset(x_val, BATCH_SIZE),trim_dataset(y_val, BATCH_SIZE)))"
      ],
      "execution_count": null,
      "outputs": [
        {
          "output_type": "stream",
          "text": [
            "Train on 3000 samples, validate on 700 samples\n",
            "Epoch 1/100\n",
            "3000/3000 [==============================] - 6s 2ms/step - loss: 0.0354 - val_loss: 0.5002\n",
            "Epoch 2/100\n",
            "3000/3000 [==============================] - 1s 449us/step - loss: 0.0817 - val_loss: 0.5046\n",
            "Epoch 3/100\n",
            "3000/3000 [==============================] - 1s 441us/step - loss: 0.0604 - val_loss: 0.4711\n",
            "Epoch 4/100\n",
            "3000/3000 [==============================] - 1s 455us/step - loss: 0.0277 - val_loss: 0.4479\n",
            "Epoch 5/100\n",
            "3000/3000 [==============================] - 1s 454us/step - loss: 0.0212 - val_loss: 0.4344\n",
            "Epoch 6/100\n",
            "3000/3000 [==============================] - 1s 468us/step - loss: 0.0155 - val_loss: 0.4352\n",
            "Epoch 7/100\n",
            "3000/3000 [==============================] - 1s 457us/step - loss: 0.0095 - val_loss: 0.4202\n",
            "Epoch 8/100\n",
            "3000/3000 [==============================] - 1s 477us/step - loss: 0.0066 - val_loss: 0.4089\n",
            "Epoch 9/100\n",
            "3000/3000 [==============================] - 1s 459us/step - loss: 0.0052 - val_loss: 0.4179\n",
            "Epoch 10/100\n",
            "3000/3000 [==============================] - 1s 438us/step - loss: 0.0046 - val_loss: 0.3878\n",
            "Epoch 11/100\n",
            "3000/3000 [==============================] - 1s 435us/step - loss: 0.0046 - val_loss: 0.4036\n",
            "Epoch 12/100\n",
            "3000/3000 [==============================] - 1s 432us/step - loss: 0.0037 - val_loss: 0.4195\n",
            "Epoch 13/100\n",
            "3000/3000 [==============================] - 1s 450us/step - loss: 0.0041 - val_loss: 0.4082\n",
            "Epoch 14/100\n",
            "3000/3000 [==============================] - 1s 451us/step - loss: 0.0034 - val_loss: 0.4141\n",
            "Epoch 15/100\n",
            "3000/3000 [==============================] - 1s 450us/step - loss: 0.0033 - val_loss: 0.4118\n",
            "Epoch 16/100\n",
            "3000/3000 [==============================] - 1s 467us/step - loss: 0.0028 - val_loss: 0.4163\n",
            "Epoch 17/100\n",
            "3000/3000 [==============================] - 1s 454us/step - loss: 0.0031 - val_loss: 0.7392\n",
            "Epoch 18/100\n",
            "3000/3000 [==============================] - 1s 463us/step - loss: 0.0033 - val_loss: 0.4251\n",
            "Epoch 19/100\n",
            "3000/3000 [==============================] - 1s 459us/step - loss: 0.0048 - val_loss: 0.4109\n",
            "Epoch 20/100\n",
            "3000/3000 [==============================] - 1s 446us/step - loss: 0.0022 - val_loss: 0.3985\n",
            "Epoch 21/100\n",
            "3000/3000 [==============================] - 1s 460us/step - loss: 0.0021 - val_loss: 0.3971\n",
            "Epoch 22/100\n",
            "3000/3000 [==============================] - 1s 452us/step - loss: 0.0025 - val_loss: 0.4023\n",
            "Epoch 23/100\n",
            "3000/3000 [==============================] - 1s 463us/step - loss: 0.0022 - val_loss: 0.5841\n",
            "Epoch 24/100\n",
            "3000/3000 [==============================] - 1s 467us/step - loss: 0.0026 - val_loss: 0.3983\n",
            "Epoch 25/100\n",
            "3000/3000 [==============================] - 1s 462us/step - loss: 0.0023 - val_loss: 0.4191\n",
            "Epoch 26/100\n",
            "3000/3000 [==============================] - 1s 456us/step - loss: 0.0025 - val_loss: 1.0179\n",
            "Epoch 27/100\n",
            "3000/3000 [==============================] - 1s 434us/step - loss: 0.0020 - val_loss: 0.7652\n",
            "Epoch 28/100\n",
            "3000/3000 [==============================] - 1s 461us/step - loss: 0.0122 - val_loss: 0.4277\n",
            "Epoch 29/100\n",
            "3000/3000 [==============================] - 1s 469us/step - loss: 0.0049 - val_loss: 0.7251\n",
            "Epoch 30/100\n",
            "3000/3000 [==============================] - 1s 455us/step - loss: 0.0019 - val_loss: 0.6212\n",
            "Epoch 31/100\n",
            "3000/3000 [==============================] - 1s 437us/step - loss: 0.0018 - val_loss: 0.5800\n",
            "Epoch 32/100\n",
            "3000/3000 [==============================] - 1s 467us/step - loss: 0.0019 - val_loss: 0.3929\n",
            "Epoch 33/100\n",
            "3000/3000 [==============================] - 1s 443us/step - loss: 0.0018 - val_loss: 0.3960\n",
            "Epoch 34/100\n",
            "3000/3000 [==============================] - 1s 459us/step - loss: 0.0027 - val_loss: 0.4024\n",
            "Epoch 35/100\n",
            "3000/3000 [==============================] - 1s 467us/step - loss: 0.0021 - val_loss: 0.8309\n",
            "Epoch 36/100\n",
            "3000/3000 [==============================] - 1s 446us/step - loss: 0.0016 - val_loss: 0.3878\n",
            "Epoch 37/100\n",
            "3000/3000 [==============================] - 1s 430us/step - loss: 0.0016 - val_loss: 0.3946\n",
            "Epoch 38/100\n",
            "3000/3000 [==============================] - 1s 446us/step - loss: 0.0014 - val_loss: 0.4002\n",
            "Epoch 39/100\n",
            "3000/3000 [==============================] - 1s 475us/step - loss: 0.0012 - val_loss: 0.4150\n",
            "Epoch 40/100\n",
            "3000/3000 [==============================] - 1s 466us/step - loss: 0.0017 - val_loss: 0.3878\n",
            "Epoch 41/100\n",
            "3000/3000 [==============================] - 1s 455us/step - loss: 0.0015 - val_loss: 0.3845\n",
            "Epoch 42/100\n",
            "3000/3000 [==============================] - 1s 446us/step - loss: 0.0013 - val_loss: 0.3837\n",
            "Epoch 43/100\n",
            "3000/3000 [==============================] - 1s 457us/step - loss: 0.0017 - val_loss: 0.4513\n",
            "Epoch 44/100\n",
            "3000/3000 [==============================] - 1s 455us/step - loss: 0.0013 - val_loss: 0.3835\n",
            "Epoch 45/100\n",
            "3000/3000 [==============================] - 1s 443us/step - loss: 0.0014 - val_loss: 0.3820\n",
            "Epoch 46/100\n",
            "3000/3000 [==============================] - 1s 456us/step - loss: 0.0015 - val_loss: 0.3820\n",
            "Epoch 47/100\n",
            "3000/3000 [==============================] - 1s 452us/step - loss: 0.0011 - val_loss: 0.3853\n",
            "Epoch 48/100\n",
            "3000/3000 [==============================] - 1s 450us/step - loss: 0.0017 - val_loss: 0.3806\n",
            "Epoch 49/100\n",
            "3000/3000 [==============================] - 1s 450us/step - loss: 0.0014 - val_loss: 0.3802\n",
            "Epoch 50/100\n",
            "3000/3000 [==============================] - 1s 453us/step - loss: 0.0012 - val_loss: 0.3787\n",
            "Epoch 51/100\n",
            "3000/3000 [==============================] - 1s 455us/step - loss: 0.0012 - val_loss: 0.3773\n",
            "Epoch 52/100\n",
            "3000/3000 [==============================] - 1s 460us/step - loss: 0.0012 - val_loss: 0.3775\n",
            "Epoch 53/100\n",
            "3000/3000 [==============================] - 1s 453us/step - loss: 9.1136e-04 - val_loss: 0.3770\n",
            "Epoch 54/100\n",
            "3000/3000 [==============================] - 1s 445us/step - loss: 0.0011 - val_loss: 0.3767\n",
            "Epoch 55/100\n",
            "3000/3000 [==============================] - 1s 451us/step - loss: 0.0014 - val_loss: 0.3809\n",
            "Epoch 56/100\n",
            "3000/3000 [==============================] - 1s 434us/step - loss: 0.0017 - val_loss: 0.3779\n",
            "Epoch 57/100\n",
            "3000/3000 [==============================] - 1s 452us/step - loss: 9.9254e-04 - val_loss: 0.3790\n",
            "Epoch 58/100\n",
            "3000/3000 [==============================] - 1s 449us/step - loss: 0.0012 - val_loss: 0.3770\n",
            "Epoch 59/100\n",
            "3000/3000 [==============================] - 1s 455us/step - loss: 0.0011 - val_loss: 0.3764\n",
            "Epoch 60/100\n",
            "3000/3000 [==============================] - 1s 466us/step - loss: 0.0011 - val_loss: 0.3766\n",
            "Epoch 61/100\n",
            "3000/3000 [==============================] - 1s 456us/step - loss: 8.8769e-04 - val_loss: 0.3777\n",
            "Epoch 62/100\n",
            "3000/3000 [==============================] - 1s 464us/step - loss: 0.0012 - val_loss: 0.3769\n",
            "Epoch 63/100\n",
            "3000/3000 [==============================] - 1s 458us/step - loss: 9.0577e-04 - val_loss: 0.3796\n",
            "Epoch 64/100\n",
            "3000/3000 [==============================] - 1s 445us/step - loss: 0.0013 - val_loss: 0.3775\n",
            "Epoch 65/100\n",
            "3000/3000 [==============================] - 1s 456us/step - loss: 9.7742e-04 - val_loss: 0.3773\n",
            "Epoch 66/100\n",
            "3000/3000 [==============================] - 1s 457us/step - loss: 0.0014 - val_loss: 0.3808\n",
            "Epoch 67/100\n",
            "3000/3000 [==============================] - 1s 459us/step - loss: 9.7619e-04 - val_loss: 0.3777\n",
            "Epoch 68/100\n",
            "3000/3000 [==============================] - 1s 456us/step - loss: 0.0011 - val_loss: 0.3771\n",
            "Epoch 69/100\n",
            "3000/3000 [==============================] - 1s 463us/step - loss: 0.0010 - val_loss: 0.3765\n",
            "Epoch 70/100\n",
            "3000/3000 [==============================] - 1s 468us/step - loss: 8.9069e-04 - val_loss: 0.3764\n",
            "Epoch 71/100\n",
            "3000/3000 [==============================] - 1s 439us/step - loss: 8.8496e-04 - val_loss: 0.3778\n",
            "Epoch 72/100\n",
            "3000/3000 [==============================] - 1s 457us/step - loss: 0.0012 - val_loss: 0.3784\n",
            "Epoch 73/100\n",
            "3000/3000 [==============================] - 1s 456us/step - loss: 0.0010 - val_loss: 0.3769\n",
            "Epoch 74/100\n",
            "3000/3000 [==============================] - 1s 461us/step - loss: 9.1315e-04 - val_loss: 0.3777\n",
            "Epoch 75/100\n",
            "3000/3000 [==============================] - 1s 452us/step - loss: 9.2093e-04 - val_loss: 0.3771\n",
            "Epoch 76/100\n",
            "3000/3000 [==============================] - 1s 463us/step - loss: 0.0011 - val_loss: 0.3769\n",
            "Epoch 77/100\n",
            "3000/3000 [==============================] - 1s 466us/step - loss: 0.0011 - val_loss: 0.3763\n",
            "Epoch 78/100\n",
            "3000/3000 [==============================] - 1s 490us/step - loss: 8.8416e-04 - val_loss: 0.3758\n",
            "Epoch 79/100\n",
            "3000/3000 [==============================] - 1s 471us/step - loss: 9.8567e-04 - val_loss: 0.3760\n",
            "Epoch 80/100\n",
            "3000/3000 [==============================] - 1s 447us/step - loss: 9.8516e-04 - val_loss: 0.3758\n",
            "Epoch 81/100\n",
            "3000/3000 [==============================] - 1s 430us/step - loss: 9.9615e-04 - val_loss: 0.3755\n",
            "Epoch 82/100\n",
            "3000/3000 [==============================] - 1s 456us/step - loss: 0.0010 - val_loss: 0.3761\n",
            "Epoch 83/100\n",
            "3000/3000 [==============================] - 1s 456us/step - loss: 7.7721e-04 - val_loss: 0.3765\n",
            "Epoch 84/100\n",
            "3000/3000 [==============================] - 1s 463us/step - loss: 9.2837e-04 - val_loss: 0.3761\n",
            "Epoch 85/100\n",
            "3000/3000 [==============================] - 1s 465us/step - loss: 0.0011 - val_loss: 0.3772\n",
            "Epoch 86/100\n",
            "3000/3000 [==============================] - 1s 453us/step - loss: 8.2422e-04 - val_loss: 0.3759\n",
            "Epoch 87/100\n",
            "3000/3000 [==============================] - 1s 468us/step - loss: 9.5057e-04 - val_loss: 0.3757\n",
            "Epoch 88/100\n",
            "3000/3000 [==============================] - 1s 460us/step - loss: 8.5747e-04 - val_loss: 0.3758\n",
            "Epoch 89/100\n",
            "3000/3000 [==============================] - 1s 452us/step - loss: 0.0010 - val_loss: 0.3761\n",
            "Epoch 90/100\n",
            "3000/3000 [==============================] - 1s 452us/step - loss: 9.6427e-04 - val_loss: 0.3757\n",
            "Epoch 91/100\n",
            "3000/3000 [==============================] - 1s 441us/step - loss: 8.1589e-04 - val_loss: 0.3754\n",
            "Epoch 92/100\n",
            "3000/3000 [==============================] - 1s 451us/step - loss: 0.0011 - val_loss: 0.3760\n",
            "Epoch 93/100\n",
            "3000/3000 [==============================] - 1s 457us/step - loss: 9.2857e-04 - val_loss: 0.3751\n",
            "Epoch 94/100\n",
            "3000/3000 [==============================] - 1s 466us/step - loss: 9.8285e-04 - val_loss: 0.3755\n",
            "Epoch 95/100\n",
            "3000/3000 [==============================] - 1s 461us/step - loss: 8.6332e-04 - val_loss: 0.3752\n",
            "Epoch 96/100\n",
            "3000/3000 [==============================] - 1s 463us/step - loss: 9.2034e-04 - val_loss: 0.3754\n",
            "Epoch 97/100\n",
            "3000/3000 [==============================] - 1s 454us/step - loss: 9.9513e-04 - val_loss: 0.3760\n",
            "Epoch 98/100\n",
            "3000/3000 [==============================] - 1s 443us/step - loss: 9.3067e-04 - val_loss: 0.3754\n",
            "Epoch 99/100\n",
            "3000/3000 [==============================] - 1s 438us/step - loss: 9.6773e-04 - val_loss: 0.3759\n",
            "Epoch 100/100\n",
            "3000/3000 [==============================] - 1s 437us/step - loss: 9.0633e-04 - val_loss: 0.3754\n"
          ],
          "name": "stdout"
        }
      ]
    },
    {
      "cell_type": "code",
      "metadata": {
        "id": "9HPSgq6bJwSB",
        "outputId": "0dc22ca5-8e7f-4317-d9b7-03299a21ae9d",
        "colab": {
          "base_uri": "https://localhost:8080/",
          "height": 282
        }
      },
      "source": [
        "loss = nn_train.history['loss']\n",
        "val_loss = nn_train.history['val_loss']\n",
        "epochs = range(len(loss))\n",
        "\n",
        "plt.plot(epochs, loss, 'b', color=\"red\", label=\"Loss\")\n",
        "plt.plot(epochs, val_loss, 'b', color=\"blue\", label=\"Validation Loss\")\n",
        "plt.legend()"
      ],
      "execution_count": null,
      "outputs": [
        {
          "output_type": "execute_result",
          "data": {
            "text/plain": [
              "<matplotlib.legend.Legend at 0x7f6003b9f828>"
            ]
          },
          "metadata": {
            "tags": []
          },
          "execution_count": 181
        },
        {
          "output_type": "display_data",
          "data": {
            "image/png": "[encoded data removed]",
            "text/plain": [
              "<Figure size 432x288 with 1 Axes>"
            ]
          },
          "metadata": {
            "tags": []
          }
        }
      ]
    },
    {
      "cell_type": "code",
      "metadata": {
        "id": "nFU1VOGNKXJv",
        "outputId": "d6df19ae-3894-4d9f-8c83-b4edd04cf1df",
        "colab": {
          "base_uri": "https://localhost:8080/",
          "height": 282
        }
      },
      "source": [
        "ramal = lstm_model.predict(x_t, batch_size=100)\n",
        "plt.plot(ramal)"
      ],
      "execution_count": null,
      "outputs": [
        {
          "output_type": "execute_result",
          "data": {
            "text/plain": [
              "[<matplotlib.lines.Line2D at 0x7f6003f07ba8>]"
            ]
          },
          "metadata": {
            "tags": []
          },
          "execution_count": 174
        },
        {
          "output_type": "display_data",
          "data": {
            "image/png": "[encoded data removed]",
            "text/plain": [
              "<Figure size 432x288 with 1 Axes>"
            ]
          },
          "metadata": {
            "tags": []
          }
        }
      ]
    },
    {
      "cell_type": "code",
      "metadata": {
        "id": "goe0MfyfKgke",
        "outputId": "8d0528fd-c009-49d2-bfd9-b7b96ad0ae55",
        "colab": {
          "base_uri": "https://localhost:8080/",
          "height": 282
        }
      },
      "source": [
        "plt.plot(y_t, color=\"green\", label=\"Real Data\")\n",
        "plt.plot(ramal, color=\"red\", label=\"Prediction Data\")\n",
        "plt.legend()"
      ],
      "execution_count": null,
      "outputs": [
        {
          "output_type": "execute_result",
          "data": {
            "text/plain": [
              "<matplotlib.legend.Legend at 0x7f6003e6f4a8>"
            ]
          },
          "metadata": {
            "tags": []
          },
          "execution_count": 175
        },
        {
          "output_type": "display_data",
          "data": {
            "image/png": "[encoded data removed]",
            "text/plain": [
              "<Figure size 432x288 with 1 Axes>"
            ]
          },
          "metadata": {
            "tags": []
          }
        }
      ]
    }
  ]
}